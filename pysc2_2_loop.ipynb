{
 "cells": [
  {
   "cell_type": "code",
   "execution_count": 10,
   "metadata": {
    "collapsed": false
   },
   "outputs": [],
   "source": [
    "import sys\n",
    "from pysc2.lib import app\n",
    "from argparse import Namespace\n",
    "\n",
    "# Parse the flags so that the default values are ready.\n",
    "app.FLAGS([sys.argv[0]])\n",
    "\n",
    "from pysc2 import maps\n",
    "from pysc2.env import available_actions_printer\n",
    "from pysc2.env import run_loop\n",
    "from pysc2.env import sc2_env\n",
    "from pysc2.agents.base_agent import *\n",
    "from pysc2.agents.random_agent import *\n",
    "from pysc2.agents.scripted_agent import *\n",
    "from pysc2.lib import actions\n",
    "import time\n",
    "import threading\n",
    "from Queue import Queue\n",
    "\n",
    "import numpy\n",
    "import numpy as np\n",
    "\n",
    "import matplotlib.pyplot as pp"
   ]
  },
  {
   "cell_type": "code",
   "execution_count": 11,
   "metadata": {
    "collapsed": true
   },
   "outputs": [],
   "source": [
    "%matplotlib inline"
   ]
  },
  {
   "cell_type": "code",
   "execution_count": 2,
   "metadata": {
    "collapsed": false
   },
   "outputs": [],
   "source": [
    "env = sc2_env.SC2Env(map_name=\"CollectMineralShards\", step_mul=1, visualize=True)"
   ]
  },
  {
   "cell_type": "code",
   "execution_count": 3,
   "metadata": {
    "collapsed": true
   },
   "outputs": [],
   "source": [
    "total_frames = 0\n",
    "start_time = time.time()\n",
    "action_spec = env.action_spec()\n",
    "observation_spec = env.observation_spec()"
   ]
  },
  {
   "cell_type": "code",
   "execution_count": 4,
   "metadata": {
    "collapsed": true
   },
   "outputs": [],
   "source": [
    "# This resets a game.\n",
    "timesteps = env.reset()"
   ]
  },
  {
   "cell_type": "code",
   "execution_count": 20,
   "metadata": {
    "collapsed": false
   },
   "outputs": [],
   "source": [
    "_PLAYER_RELATIVE = features.SCREEN_FEATURES.player_relative.index\n",
    "_PLAYER_FRIENDLY = 1\n",
    "_PLAYER_NEUTRAL = 3  # beacon/minerals\n",
    "_NO_OP = actions.FUNCTIONS.no_op.id\n",
    "_MOVE_SCREEN = actions.FUNCTIONS.Move_screen.id\n",
    "_SELECT_ARMY = actions.FUNCTIONS.select_army.id\n",
    "_SELECT_POINT = actions.FUNCTIONS.select_point.id\n",
    "_NOT_QUEUED = [0]\n",
    "_SELECT_ALL = [0]"
   ]
  },
  {
   "cell_type": "code",
   "execution_count": 26,
   "metadata": {
    "collapsed": true
   },
   "outputs": [],
   "source": [
    "# Collect Mineral v2, two units go to closest for them separately.\n",
    "last_player = None\n",
    "for t in range(1000):\n",
    "  obs = timesteps[0]\n",
    "\n",
    "  if _MOVE_SCREEN in obs.observation[\"available_actions\"]:\n",
    "    player_relative = obs.observation[\"screen\"][_PLAYER_RELATIVE]\n",
    "    neutral_y, neutral_x = (player_relative == _PLAYER_NEUTRAL).nonzero()\n",
    "    player_y, player_x = (player_relative == _PLAYER_FRIENDLY).nonzero()\n",
    "    if not neutral_y.any() or not player_y.any():\n",
    "      acts = actions.FunctionCall(_NO_OP, [])\n",
    "    else:\n",
    "      i = np.random.randint(len(player_x))\n",
    "      player = [player_x[i], player_y[i]]\n",
    "      if t % 2 == 0:\n",
    "        acts = actions.FunctionCall(_SELECT_POINT, [[0], player])\n",
    "        last_player = player\n",
    "      else:\n",
    "        closest, min_dist = None, None\n",
    "        for p in zip(neutral_x, neutral_y):\n",
    "          dist = numpy.linalg.norm(numpy.array(last_player) - numpy.array(p))\n",
    "          if not min_dist or dist < min_dist:\n",
    "            closest, min_dist = p, dist\n",
    "        acts = actions.FunctionCall(_MOVE_SCREEN, [_NOT_QUEUED, closest])\n",
    "  else:\n",
    "    acts = actions.FunctionCall(_SELECT_ARMY, [_SELECT_ALL])\n",
    "\n",
    "  timesteps = env.step([acts])"
   ]
  },
  {
   "cell_type": "code",
   "execution_count": 6,
   "metadata": {
    "collapsed": true
   },
   "outputs": [],
   "source": [
    "# Collect Mineral\n",
    "for t in range(10):\n",
    "  obs = timesteps[0]\n",
    "\n",
    "  if _MOVE_SCREEN in obs.observation[\"available_actions\"]:\n",
    "    player_relative = obs.observation[\"screen\"][_PLAYER_RELATIVE]\n",
    "    neutral_y, neutral_x = (player_relative == _PLAYER_NEUTRAL).nonzero()\n",
    "    player_y, player_x = (player_relative == _PLAYER_FRIENDLY).nonzero()\n",
    "    if not neutral_y.any() or not player_y.any():\n",
    "      acts = actions.FunctionCall(_NO_OP, [])\n",
    "    else:\n",
    "      player = [int(player_x.mean()), int(player_y.mean())]\n",
    "      closest, min_dist = None, None\n",
    "      for p in zip(neutral_x, neutral_y):\n",
    "        dist = numpy.linalg.norm(numpy.array(player) - numpy.array(p))\n",
    "        if not min_dist or dist < min_dist:\n",
    "          closest, min_dist = p, dist\n",
    "      acts = actions.FunctionCall(_MOVE_SCREEN, [_NOT_QUEUED, closest])\n",
    "  else:\n",
    "    acts = actions.FunctionCall(_SELECT_ARMY, [_SELECT_ALL])\n",
    "\n",
    "  timesteps = env.step([acts])"
   ]
  },
  {
   "cell_type": "code",
   "execution_count": 5,
   "metadata": {
    "collapsed": false
   },
   "outputs": [
    {
     "name": "stdout",
     "output_type": "stream",
     "text": [
      "select_rect (3) (2,) [0] (64, 64) [25, 59] (64, 64) [5, 4]\n",
      "select_army (7) (2,) [1]\n",
      "select_army (7) (2,) [1]\n",
      "select_control_group (4) (5,) [0] (10,) [2]\n",
      "select_point (2) (4,) [1] (64, 64) [53, 14]\n",
      "Stop_quick (453) (2,) [1]\n",
      "Attack_screen (12) (2,) [0] (64, 64) [20, 56]\n",
      "no_op (0)\n",
      "Smart_minimap (452) (2,) [1] (64, 64) [26, 43]\n",
      "Move_screen (331) (2,) [1] (64, 64) [32, 7]\n",
      "Smart_minimap (452) (2,) [0] (64, 64) [60, 62]\n",
      "select_rect (3) (2,) [1] (64, 64) [17, 21] (64, 64) [55, 44]\n",
      "select_unit (5) (4,) [3] (500,) [29]\n",
      "Patrol_screen (333) (2,) [0] (64, 64) [2, 32]\n",
      "Stop_quick (453) (2,) [0]\n",
      "Patrol_minimap (334) (2,) [0] (64, 64) [36, 56]\n",
      "select_army (7) (2,) [1]\n",
      "select_unit (5) (4,) [0] (500,) [217]\n",
      "Patrol_minimap (334) (2,) [0] (64, 64) [19, 22]\n",
      "Attack_screen (12) (2,) [0] (64, 64) [18, 48]\n",
      "select_point (2) (4,) [0] (64, 64) [13, 21]\n",
      "Patrol_screen (333) (2,) [0] (64, 64) [32, 30]\n",
      "Attack_minimap (13) (2,) [0] (64, 64) [28, 7]\n",
      "move_camera (1) (64, 64) [36, 1]\n",
      "HoldPosition_quick (274) (2,) [1]\n",
      "Stop_quick (453) (2,) [1]\n",
      "select_army (7) (2,) [0]\n",
      "Move_minimap (332) (2,) [1] (64, 64) [40, 17]\n",
      "select_point (2) (4,) [1] (64, 64) [30, 55]\n",
      "HoldPosition_quick (274) (2,) [0]\n",
      "Move_screen (331) (2,) [1] (64, 64) [62, 12]\n",
      "move_camera (1) (64, 64) [14, 9]\n",
      "select_point (2) (4,) [0] (64, 64) [19, 13]\n",
      "select_rect (3) (2,) [0] (64, 64) [3, 7] (64, 64) [63, 50]\n",
      "select_army (7) (2,) [0]\n",
      "select_control_group (4) (5,) [4] (10,) [3]\n",
      "select_army (7) (2,) [0]\n",
      "Attack_minimap (13) (2,) [1] (64, 64) [47, 0]\n",
      "select_control_group (4) (5,) [3] (10,) [2]\n",
      "Move_minimap (332) (2,) [1] (64, 64) [12, 45]\n",
      "Attack_screen (12) (2,) [1] (64, 64) [0, 60]\n",
      "HoldPosition_quick (274) (2,) [0]\n",
      "select_unit (5) (4,) [2] (500,) [413]\n",
      "select_unit (5) (4,) [1] (500,) [111]\n",
      "Stop_quick (453) (2,) [0]\n",
      "Patrol_screen (333) (2,) [1] (64, 64) [36, 32]\n",
      "select_point (2) (4,) [3] (64, 64) [17, 19]\n",
      "move_camera (1) (64, 64) [40, 48]\n",
      "select_unit (5) (4,) [1] (500,) [60]\n",
      "select_control_group (4) (5,) [2] (10,) [0]\n",
      "select_control_group (4) (5,) [1] (10,) [5]\n",
      "Patrol_screen (333) (2,) [0] (64, 64) [19, 53]\n",
      "select_army (7) (2,) [1]\n",
      "Attack_screen (12) (2,) [0] (64, 64) [38, 56]\n",
      "HoldPosition_quick (274) (2,) [1]\n",
      "HoldPosition_quick (274) (2,) [1]\n",
      "Move_minimap (332) (2,) [1] (64, 64) [29, 26]\n",
      "Move_screen (331) (2,) [1] (64, 64) [35, 34]\n",
      "Attack_screen (12) (2,) [0] (64, 64) [21, 52]\n",
      "Move_screen (331) (2,) [0] (64, 64) [16, 12]\n",
      "Attack_screen (12) (2,) [0] (64, 64) [35, 32]\n",
      "Move_screen (331) (2,) [0] (64, 64) [20, 30]\n",
      "Stop_quick (453) (2,) [0]\n",
      "Patrol_screen (333) (2,) [0] (64, 64) [26, 45]\n",
      "Smart_screen (451) (2,) [0] (64, 64) [4, 50]\n",
      "select_army (7) (2,) [1]\n",
      "Move_screen (331) (2,) [0] (64, 64) [45, 47]\n",
      "Move_minimap (332) (2,) [0] (64, 64) [55, 30]\n",
      "HoldPosition_quick (274) (2,) [1]\n",
      "select_point (2) (4,) [1] (64, 64) [61, 43]\n",
      "Move_minimap (332) (2,) [1] (64, 64) [34, 39]\n",
      "HoldPosition_quick (274) (2,) [0]\n",
      "select_unit (5) (4,) [0] (500,) [393]\n",
      "select_point (2) (4,) [0] (64, 64) [16, 31]\n",
      "HoldPosition_quick (274) (2,) [0]\n",
      "select_control_group (4) (5,) [2] (10,) [1]\n",
      "Smart_minimap (452) (2,) [0] (64, 64) [33, 57]\n",
      "Attack_minimap (13) (2,) [1] (64, 64) [37, 2]\n",
      "select_rect (3) (2,) [1] (64, 64) [45, 25] (64, 64) [24, 24]\n",
      "select_control_group (4) (5,) [0] (10,) [7]\n",
      "Stop_quick (453) (2,) [1]\n",
      "HoldPosition_quick (274) (2,) [0]\n",
      "Smart_minimap (452) (2,) [1] (64, 64) [52, 20]\n",
      "no_op (0)\n",
      "Patrol_screen (333) (2,) [1] (64, 64) [28, 57]\n",
      "select_point (2) (4,) [2] (64, 64) [55, 48]\n",
      "Attack_screen (12) (2,) [1] (64, 64) [18, 40]\n",
      "Move_minimap (332) (2,) [0] (64, 64) [44, 12]\n",
      "Patrol_screen (333) (2,) [1] (64, 64) [37, 3]\n",
      "select_army (7) (2,) [1]\n",
      "Patrol_minimap (334) (2,) [0] (64, 64) [61, 39]\n",
      "Smart_minimap (452) (2,) [0] (64, 64) [0, 38]\n",
      "select_rect (3) (2,) [0] (64, 64) [36, 23] (64, 64) [50, 34]\n",
      "HoldPosition_quick (274) (2,) [0]\n",
      "HoldPosition_quick (274) (2,) [0]\n",
      "Move_minimap (332) (2,) [0] (64, 64) [41, 39]\n",
      "move_camera (1) (64, 64) [7, 18]\n",
      "Patrol_minimap (334) (2,) [0] (64, 64) [57, 31]\n",
      "Move_screen (331) (2,) [0] (64, 64) [1, 12]\n",
      "select_point (2) (4,) [1] (64, 64) [23, 43]\n"
     ]
    }
   ],
   "source": [
    "# Random Actions\n",
    "for t in range(100):\n",
    "  obs = timesteps[0]\n",
    "  function_id = numpy.random.choice(obs.observation[\"available_actions\"])\n",
    "  args = [[numpy.random.randint(0, size) for size in arg.sizes]\n",
    "          for arg in action_spec.functions[function_id].args]\n",
    "  print \"%s (%d)\" % (actions.FUNCTIONS[function_id].name, function_id),\n",
    "  for i in range(len(args)):\n",
    "    print action_spec.functions[function_id].args[i].sizes, args[i],\n",
    "  print\n",
    "  acts = actions.FunctionCall(function_id, args)\n",
    "  timesteps = env.step([acts])"
   ]
  },
  {
   "cell_type": "code",
   "execution_count": 27,
   "metadata": {
    "collapsed": false
   },
   "outputs": [
    {
     "name": "stderr",
     "output_type": "stream",
     "text": [
      "WARNING:root:Terminating attempt 0...\n",
      "WARNING:root:Terminated.\n"
     ]
    }
   ],
   "source": [
    "env.close()"
   ]
  },
  {
   "cell_type": "code",
   "execution_count": null,
   "metadata": {
    "collapsed": true
   },
   "outputs": [],
   "source": []
  }
 ],
 "metadata": {
  "kernelspec": {
   "display_name": "Python 2",
   "language": "python",
   "name": "python2"
  },
  "language_info": {
   "codemirror_mode": {
    "name": "ipython",
    "version": 2
   },
   "file_extension": ".py",
   "mimetype": "text/x-python",
   "name": "python",
   "nbconvert_exporter": "python",
   "pygments_lexer": "ipython2",
   "version": "2.7.12"
  }
 },
 "nbformat": 4,
 "nbformat_minor": 1
}
