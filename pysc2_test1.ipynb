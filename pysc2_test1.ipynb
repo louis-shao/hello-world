{
 "cells": [
  {
   "cell_type": "code",
   "execution_count": 1,
   "metadata": {
    "collapsed": false
   },
   "outputs": [],
   "source": [
    "import sys\n",
    "from pysc2.lib import app\n",
    "from argparse import Namespace\n",
    "\n",
    "# Parse the flags so that the default values are ready.\n",
    "app.FLAGS([sys.argv[0]])\n",
    "\n",
    "from pysc2 import maps\n",
    "from pysc2.env import available_actions_printer\n",
    "from pysc2.env import run_loop\n",
    "from pysc2.env import sc2_env\n",
    "from pysc2.agents.base_agent import *\n",
    "from pysc2.agents.random_agent import *\n",
    "from pysc2.agents.scripted_agent import *\n",
    "from pysc2.lib import actions\n",
    "\n",
    "import threading\n",
    "from Queue import Queue"
   ]
  },
  {
   "cell_type": "code",
   "execution_count": 2,
   "metadata": {
    "collapsed": true
   },
   "outputs": [],
   "source": [
    "CMD_GET = 0    # get observations.\n",
    "CMD_PUT = 1    # put actions."
   ]
  },
  {
   "cell_type": "code",
   "execution_count": 3,
   "metadata": {
    "collapsed": false
   },
   "outputs": [],
   "source": [
    "# Inherit from the existing agents so that \n",
    "# we can call their step functions for testing purpose.\n",
    "class NotebookAgent(CollectMineralShards, MoveToBeacon, DefeatRoaches):\n",
    "  def __init__(self):\n",
    "    self.qi, self.qo = Queue(), Queue()\n",
    "    self.noop = actions.FunctionCall(0, [])\n",
    "\n",
    "  def step(self, obs):\n",
    "    BaseAgent.step.im_func(self, obs)\n",
    "    if not self.qi.empty():\n",
    "      c = self.qi.get()\n",
    "      if c.cmd == CMD_GET:\n",
    "        self.qo.put(obs)\n",
    "        if c.pause:\n",
    "          c_resume = self.qi.get()\n",
    "          self.qo.put(None)\n",
    "          return c_resume.act\n",
    "      elif c.cmd == CMD_PUT:\n",
    "        self.qo.put(None)\n",
    "        return c.act\n",
    "    return self.noop\n",
    "\n",
    "  # Put an action for execution.\n",
    "  def put(self, act):\n",
    "    self.qi.put(Namespace(cmd=CMD_PUT, act=act))\n",
    "    self.qo.get()\n",
    "\n",
    "  # Get the current observation.\n",
    "  # If pause, use put to resume.\n",
    "  def get(self, pause=False):\n",
    "    self.qi.put(Namespace(cmd=CMD_GET, pause=pause))\n",
    "    return self.qo.get()\n",
    "\n",
    "  # Launches the sc2 engine.\n",
    "  def run_thread(self):\n",
    "    with sc2_env.SC2Env(\n",
    "      map_name=\"CollectMineralShards\", step_mul=1, visualize=True) as env:\n",
    "      env = available_actions_printer.AvailableActionsPrinter(env)\n",
    "      self.env = env\n",
    "      run_loop.run_loop([self], env, max_frames=2500 * 8)"
   ]
  },
  {
   "cell_type": "code",
   "execution_count": 4,
   "metadata": {
    "collapsed": false
   },
   "outputs": [],
   "source": [
    "agent = NotebookAgent()"
   ]
  },
  {
   "cell_type": "code",
   "execution_count": 5,
   "metadata": {
    "collapsed": false
   },
   "outputs": [
    {
     "name": "stdout",
     "output_type": "stream",
     "text": [
      "   0/no_op                                              ()\n",
      "   1/move_camera                                        (1/minimap [64, 64])\n",
      "   2/select_point                                       (6/select_point_act [4]; 0/screen [64, 64])\n",
      "   3/select_rect                                        (7/select_add [2]; 0/screen [64, 64]; 2/screen2 [64, 64])\n",
      "   4/select_control_group                               (4/control_group_act [5]; 5/control_group_id [10])\n",
      "   7/select_army                                        (7/select_add [2])\n"
     ]
    }
   ],
   "source": [
    "t = threading.Thread(target=agent.run_thread)\n",
    "t.start()"
   ]
  },
  {
   "cell_type": "code",
   "execution_count": 7,
   "metadata": {
    "collapsed": false
   },
   "outputs": [],
   "source": [
    "# Runs the collect mineral action once, manually.\n",
    "# You can inspect the observations before issuing the actions.\n",
    "obs = agent.get()\n",
    "act = CollectMineralShards.step.im_func(agent, obs)\n",
    "agent.put(act)"
   ]
  },
  {
   "cell_type": "code",
   "execution_count": 10,
   "metadata": {
    "collapsed": true
   },
   "outputs": [],
   "source": [
    "# This gets the observation and blocks the execution\n",
    "obs = agent.get(pause=True)"
   ]
  },
  {
   "cell_type": "code",
   "execution_count": 11,
   "metadata": {
    "collapsed": false
   },
   "outputs": [
    {
     "name": "stdout",
     "output_type": "stream",
     "text": [
      "Took 30.674 seconds for 1114 steps: 36.317 fps\n"
     ]
    },
    {
     "name": "stderr",
     "output_type": "stream",
     "text": [
      "WARNING:root:Terminating attempt 0...\n",
      "WARNING:root:Terminated.\n"
     ]
    }
   ],
   "source": [
    "# This resumes the game.\n",
    "act = CollectMineralShards.step.im_func(agent, obs)\n",
    "agent.put(act)"
   ]
  }
 ],
 "metadata": {
  "kernelspec": {
   "display_name": "Python 2",
   "language": "python",
   "name": "python2"
  },
  "language_info": {
   "codemirror_mode": {
    "name": "ipython",
    "version": 2
   },
   "file_extension": ".py",
   "mimetype": "text/x-python",
   "name": "python",
   "nbconvert_exporter": "python",
   "pygments_lexer": "ipython2",
   "version": "2.7.12"
  }
 },
 "nbformat": 4,
 "nbformat_minor": 1
}
