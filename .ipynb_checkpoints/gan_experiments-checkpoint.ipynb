{
 "cells": [
  {
   "cell_type": "markdown",
   "metadata": {},
   "source": [
    "Playing with the Generative Adversarial Network (GAN) in a few simple settings."
   ]
  },
  {
   "cell_type": "code",
   "execution_count": 1,
   "metadata": {
    "colab": {
     "autoexec": {
      "startup": false,
      "wait_interval": 0
     }
    },
    "colab_type": "code",
    "collapsed": false,
    "id": "AjPI6oEcsxKj"
   },
   "outputs": [],
   "source": [
    "import matplotlib.pyplot as pp\n",
    "import numpy as np\n",
    "import tensorflow as tf\n",
    "import contextlib\n",
    "import os\n",
    "import struct\n",
    "%matplotlib inline"
   ]
  },
  {
   "cell_type": "code",
   "execution_count": 2,
   "metadata": {
    "colab": {
     "autoexec": {
      "startup": false,
      "wait_interval": 0
     }
    },
    "colab_type": "code",
    "collapsed": true,
    "id": "5RS7eslkt-jj"
   },
   "outputs": [],
   "source": [
    "seed = 374\n",
    "np.random.seed(seed)\n",
    "tf.set_random_seed(seed)"
   ]
  },
  {
   "cell_type": "markdown",
   "metadata": {
    "colab_type": "text",
    "id": "OOurc4ydGg5J"
   },
   "source": [
    "For collecting the variables defined during a code span."
   ]
  },
  {
   "cell_type": "code",
   "execution_count": 3,
   "metadata": {
    "colab": {
     "autoexec": {
      "startup": false,
      "wait_interval": 0
     }
    },
    "colab_type": "code",
    "collapsed": true,
    "id": "erTle2dTEhws"
   },
   "outputs": [],
   "source": [
    "@contextlib.contextmanager\n",
    "def VariableDiff():\n",
    "  v0 = set(tf.trainable_variables())\n",
    "  vdiff = []\n",
    "  yield vdiff\n",
    "  v1 = tf.trainable_variables()\n",
    "  for v in v1:\n",
    "    if v not in v0:\n",
    "      vdiff.append(v)"
   ]
  },
  {
   "cell_type": "markdown",
   "metadata": {
    "colab_type": "text",
    "id": "CevAC0MZGiDE"
   },
   "source": [
    "Fa(v) is g(v) and Fb(v) is f*(g(v)), respectively, in the [f-gan paper](https://arxiv.org/pdf/1606.00709.pdf)."
   ]
  },
  {
   "cell_type": "code",
   "execution_count": 4,
   "metadata": {
    "colab": {
     "autoexec": {
      "startup": false,
      "wait_interval": 0
     }
    },
    "colab_type": "code",
    "collapsed": true,
    "id": "HeNBcjTs7WHl"
   },
   "outputs": [],
   "source": [
    "class GanPlain(object):\n",
    "  def Fa(self, v):\n",
    "    return tf.log_sigmoid(v)\n",
    "  \n",
    "  def Fb(self, v):\n",
    "    return self.Fa(v) - v\n",
    "  \n",
    "  def FbMFa(self, v):\n",
    "    return -v"
   ]
  },
  {
   "cell_type": "code",
   "execution_count": 5,
   "metadata": {
    "colab": {
     "autoexec": {
      "startup": false,
      "wait_interval": 0
     },
     "height": 639,
     "output_extras": [
      {
       "item_id": 1
      }
     ]
    },
    "colab_type": "code",
    "collapsed": false,
    "executionInfo": {
     "elapsed": 1889,
     "status": "error",
     "timestamp": 1507696607963,
     "user": {
      "displayName": "Louis Shao",
      "photoUrl": "//lh6.googleusercontent.com/-Xk4yoLtB1G4/AAAAAAAAAAI/AAAAAAAAADI/dMzQjZ3A9T8/s50-c-k-no/photo.jpg",
      "userId": "109463290151803858571"
     },
     "user_tz": 420
    },
    "id": "PbqSFh50Dx5t",
    "outputId": "4eff26fe-3a19-443d-b170-7756a4d2c61d"
   },
   "outputs": [],
   "source": [
    "sess = tf.Session(config=tf.ConfigProto(device_count={\"GPU\": 0}))"
   ]
  },
  {
   "cell_type": "code",
   "execution_count": 6,
   "metadata": {
    "colab": {
     "autoexec": {
      "startup": false,
      "wait_interval": 0
     }
    },
    "colab_type": "code",
    "collapsed": true,
    "id": "9WViZgPQE0mV"
   },
   "outputs": [],
   "source": [
    "global_step = tf.train.get_or_create_global_step()\n",
    "learn_rate = tf.constant(0.01, dtype=tf.float32, shape=[])\n",
    "batch_size = tf.constant(8, dtype=tf.int32, shape=[])"
   ]
  },
  {
   "cell_type": "code",
   "execution_count": 7,
   "metadata": {
    "colab": {
     "autoexec": {
      "startup": false,
      "wait_interval": 0
     }
    },
    "colab_type": "code",
    "collapsed": true,
    "id": "6zD7xx62T3Nq"
   },
   "outputs": [],
   "source": [
    "class ModelNormalToUniform(object):\n",
    "  def Generate(self, z):\n",
    "    with VariableDiff() as vars_gen:\n",
    "      h = z\n",
    "      h = tf.layers.dense(h, 128, activation=tf.tanh)\n",
    "\n",
    "      h1 = tf.layers.dense(h, 128, activation=tf.tanh)\n",
    "      h = tf.layers.dense(h1, 128) + h\n",
    "\n",
    "      h1 = tf.layers.dense(h, 128, activation=tf.tanh)\n",
    "      h = tf.layers.dense(h1, 128) + h\n",
    "\n",
    "      h = tf.layers.dense(h, self.dim)\n",
    "    self.vars_gen = vars_gen\n",
    "    return h\n",
    "\n",
    "  def Discriminate(self, y):\n",
    "    with VariableDiff() as vars_dis:\n",
    "      h = y\n",
    "      h = tf.layers.dense(h, 128, activation=tf.tanh)\n",
    "\n",
    "      h1 = tf.layers.dense(h, 128, activation=tf.tanh)\n",
    "      h = tf.layers.dense(h1, 128) + h\n",
    "\n",
    "      h1 = tf.layers.dense(h, 128, activation=tf.tanh)\n",
    "      h = tf.layers.dense(h1, 128) + h\n",
    "\n",
    "      h = tf.layers.dense(h, 1)    \n",
    "    self.vars_dis = vars_dis\n",
    "    return h\n",
    "      \n",
    "  def _CreateLatent(self):\n",
    "    z = tf.random_normal([batch_size, self.dim])\n",
    "    return z\n",
    "  \n",
    "  def _CreateObserved(self):\n",
    "    yd = tf.random_uniform([batch_size, self.dim])\n",
    "    return yd\n",
    "      \n",
    "  def __init__(self):\n",
    "    self.dim = 1\n",
    "    self._CreateModel()\n",
    "    \n",
    "  def _CreateModel(self):\n",
    "    z = self._CreateLatent()\n",
    "    self.z = z\n",
    "\n",
    "    ys = self.Generate(z)\n",
    "    yd = self._CreateObserved()\n",
    "    y = tf.concat([yd, ys], axis=0)\n",
    "    self.yd, self.ys = yd, ys\n",
    "    self.y = y\n",
    "    \n",
    "    p = self.Discriminate(y)\n",
    "    self.p = p\n",
    "    self.sig_p = tf.sigmoid(p)\n",
    "    pd, ps = tf.split(p, 2, axis=0)\n",
    "    self.pd, self.ps = pd, ps\n",
    "    \n",
    "  def Plot(self):\n",
    "    ys_v, yd_v = sess.run([self.ys, self.yd])\n",
    "    pp.hist(np.concatenate([ys_v, yd_v], axis=1))\n",
    "\n",
    "    x0, x1 = pp.xlim()\n",
    "    y0, y1 = pp.ylim()\n",
    "    batch_size_v = sess.run(batch_size)\n",
    "    \n",
    "    y_v = np.expand_dims(np.linspace(x0, x1, batch_size_v * 2), 1)\n",
    "    sig_p_v = sess.run(self.sig_p, {self.y: y_v})\n",
    "    pp.plot(y_v, sig_p_v * (y1 - y0) + y0)\n",
    "    \n",
    "  def Verify(self):\n",
    "    ys_v_all = []\n",
    "    while len(ys_v_all) < 12800:\n",
    "      ys_v = sess.run(self.ys)\n",
    "      ys_v_all.extend(list(ys_v[:, 0]))\n",
    "    pp.hist(ys_v_all, bins=30)      \n",
    "    \n",
    "  @property\n",
    "  def inputs(self):\n",
    "    return [self.yd, self.ys]"
   ]
  },
  {
   "cell_type": "code",
   "execution_count": 8,
   "metadata": {
    "colab": {
     "autoexec": {
      "startup": false,
      "wait_interval": 0
     }
    },
    "colab_type": "code",
    "collapsed": true,
    "id": "wPYX1-pFa4DM"
   },
   "outputs": [],
   "source": [
    "class ModelNormalToTwoUnifs(ModelNormalToUniform):   \n",
    "  def _CreateObserved(self):\n",
    "    yd1 = tf.random_uniform([batch_size / 2, 1], minval=1.0, maxval=2.0)\n",
    "    yd2 = tf.random_uniform([batch_size / 2, 1], minval=-3.0, maxval=-1.0)\n",
    "    yd = tf.concat([yd1, yd2], axis=0)\n",
    "    return yd"
   ]
  },
  {
   "cell_type": "code",
   "execution_count": 9,
   "metadata": {
    "colab": {
     "autoexec": {
      "startup": false,
      "wait_interval": 0
     }
    },
    "colab_type": "code",
    "collapsed": true,
    "id": "MfbuklIu-OHu"
   },
   "outputs": [],
   "source": [
    "class ModelNormalToNormal(ModelNormalToUniform):   \n",
    "  def _CreateObserved(self):\n",
    "    yd = tf.random_normal([batch_size, self.dim])\n",
    "    return yd"
   ]
  },
  {
   "cell_type": "code",
   "execution_count": 10,
   "metadata": {
    "colab": {
     "autoexec": {
      "startup": false,
      "wait_interval": 0
     }
    },
    "colab_type": "code",
    "collapsed": true,
    "id": "KIF6z3E_gxFg"
   },
   "outputs": [],
   "source": [
    "class ModelNormalToUniform2D(ModelNormalToUniform):\n",
    "  def __init__(self):\n",
    "    self.dim = 2\n",
    "    self._CreateModel()  \n",
    "    \n",
    "  def Plot(self):\n",
    "    ys_v, yd_v = sess.run([self.ys, self.yd])\n",
    "    pp.plot(ys_v[:, 0], ys_v[:, 1], \".\")\n",
    "    pp.plot(yd_v[:, 0], yd_v[:, 1], \".\")\n",
    "    \n",
    "  def Verify(self):\n",
    "    yd_v_all, ys_v_all = sess.run([self.yd, self.ys])\n",
    "    for i in range(100):\n",
    "      yd_v, ys_v = sess.run([self.yd, self.ys])\n",
    "      yd_v_all = np.concatenate([yd_v_all, yd_v], axis=0)\n",
    "      ys_v_all = np.concatenate([ys_v_all, ys_v], axis=0)\n",
    "    pp.plot(ys_v_all[:, 0], ys_v_all[:, 1], \".\")\n",
    "    pp.plot(yd_v_all[:, 0], yd_v_all[:, 1], \".\")"
   ]
  },
  {
   "cell_type": "code",
   "execution_count": 11,
   "metadata": {
    "colab": {
     "autoexec": {
      "startup": false,
      "wait_interval": 0
     }
    },
    "colab_type": "code",
    "collapsed": true,
    "id": "lUcPA1vhm-hq"
   },
   "outputs": [],
   "source": [
    "class ModelNormalToLine(ModelNormalToUniform2D):\n",
    "  def __init__(self):\n",
    "    self.dim = 2\n",
    "    self._CreateModel()  \n",
    "    \n",
    "  def _CreateObserved(self):\n",
    "    yd = tf.random_uniform([batch_size, 1], minval=0.0, maxval=1.0)\n",
    "    yd = tf.concat([yd, 1.0 - yd], axis=1)\n",
    "    return yd"
   ]
  },
  {
   "cell_type": "markdown",
   "metadata": {
    "colab_type": "text",
    "id": "-1Y2vZP8SP_v"
   },
   "source": [
    "The model from the tutorial: \n",
    "http://blog.aylien.com/introduction-generative-adversarial-networks-code-tensorflow/\n",
    "\n",
    "The tutorial also uses\n",
    "\n",
    "- TrainGanSingleTwoSteps2 for training.\n",
    "- learning_rate 0.001 on Adam.\n",
    "- Suggested small batch size."
   ]
  },
  {
   "cell_type": "code",
   "execution_count": 12,
   "metadata": {
    "colab": {
     "autoexec": {
      "startup": false,
      "wait_interval": 0
     }
    },
    "colab_type": "code",
    "collapsed": true,
    "id": "N5k0f_epR9IE"
   },
   "outputs": [],
   "source": [
    "class ModelNormalToNormalAylien(ModelNormalToNormal):\n",
    "  def Generate(self, z):\n",
    "    with VariableDiff() as vars_gen:\n",
    "      h_dim = 4\n",
    "      h = z\n",
    "      h = tf.layers.dense(h, h_dim, activation=tf.nn.softplus)\n",
    "      h = tf.layers.dense(h, self.dim)\n",
    "    self.vars_gen = vars_gen\n",
    "    return h\n",
    "  \n",
    "  def Discriminate(self, y):\n",
    "    with VariableDiff() as vars_dis:\n",
    "      # h_dim = 4\n",
    "      h_dim = 8\n",
    "      use_minibatch = True\n",
    "      \n",
    "      h = y\n",
    "      \n",
    "      h = tf.layers.dense(h, h_dim * 2, activation=tf.nn.relu)\n",
    "      h = tf.layers.dense(h, h_dim * 2, activation=tf.nn.relu)\n",
    "      \n",
    "      if use_minibatch:\n",
    "        h = self.Minibatch(h)\n",
    "      else:\n",
    "        h = tf.layers.dense(h, h_dim * 2, activation=tf.nn.relu)\n",
    "\n",
    "      h = tf.layers.dense(h, 1)\n",
    "    self.vars_dis = vars_dis\n",
    "    return h\n",
    "  \n",
    "  def Minibatch(self, h, num_kernels=5, kernel_dim=3):\n",
    "    x = tf.layers.dense(h, num_kernels * kernel_dim)\n",
    "    \n",
    "    activation = tf.reshape(x, (-1, num_kernels, kernel_dim))\n",
    "    diffs = (tf.expand_dims(activation, 3) - \n",
    "             tf.expand_dims(tf.transpose(activation, [1, 2, 0]), 0))\n",
    "    abs_diffs = tf.reduce_sum(tf.abs(diffs), 2)\n",
    "    minibatch_features = tf.reduce_sum(tf.exp(-abs_diffs), 2)\n",
    "    return tf.concat([h, minibatch_features], 1)\n",
    "    \n",
    "  \n",
    "class ModelNormalToUniformAylien(ModelNormalToNormalAylien):\n",
    "  def _CreateObserved(self):\n",
    "    yd = tf.random_uniform([batch_size, self.dim])\n",
    "    return yd  "
   ]
  },
  {
   "cell_type": "code",
   "execution_count": 13,
   "metadata": {
    "colab": {
     "autoexec": {
      "startup": false,
      "wait_interval": 0
     }
    },
    "colab_type": "code",
    "collapsed": true,
    "id": "VyBxqvff0SXr"
   },
   "outputs": [],
   "source": [
    "# Implicit GAN means that D step minimizes sigmoid_cross_entropy_with_logits\n",
    "# and G step maximizes it, with respect to discriminator and generator\n",
    "# respectively.\n",
    "class TrainImplicitGanSingleStep(object):\n",
    "  def __init__(self, model, opt_cls=tf.train.GradientDescentOptimizer):\n",
    "    self.m = model\n",
    "    self.opt = opt_cls(learn_rate)\n",
    "\n",
    "    labels = tf.concat([\n",
    "        tf.ones(shape=[tf.shape(self.m.pd)[0], 1]), \n",
    "        tf.zeros(shape=[tf.shape(self.m.ps)[0], 1]),\n",
    "    ], axis=0)\n",
    "\n",
    "    loss0_dis = tf.reduce_mean(tf.nn.sigmoid_cross_entropy_with_logits(logits=self.m.p, labels=labels))\n",
    "    self.loss = loss0_dis\n",
    "    self._CreateTrainOps()\n",
    "\n",
    "  def _CreateTrainOps(self):\n",
    "    vars_all = tf.trainable_variables()\n",
    "    y_grad, = tf.gradients(self.loss, self.m.y)\n",
    "    grads0_s = tf.gradients(\n",
    "        [self.loss, self.m.y], \n",
    "        vars_all, \n",
    "        [tf.ones_like(self.loss), y_grad * (-2.0)],\n",
    "    )\n",
    "    train0_s = self.opt.apply_gradients(\n",
    "        zip(grads0_s, vars_all), \n",
    "        global_step=global_step,\n",
    "    )\n",
    "    self.train_op = train0_s\n",
    "\n",
    "  def Step(self, feed_dict=None, dsteps=1, gsteps=1):\n",
    "    sess.run([self.train_op], feed_dict)\n",
    "  \n",
    "class TrainImplicitGanTwoSteps(TrainImplicitGanSingleStep):\n",
    "  def _CreateTrainOps(self):\n",
    "    vars_all = tf.trainable_variables()\n",
    "    y_grad, = tf.gradients(self.loss, self.m.y)\n",
    "    grads0_d = tf.gradients([self.loss, self.m.y], vars_all, [tf.ones_like(self.loss), y_grad * (-1.0)])\n",
    "    grads0_g = tf.gradients([self.m.y], vars_all, [y_grad * (-1.0)])\n",
    "    train0_d = self.opt.apply_gradients(zip(grads0_d, vars_all))\n",
    "    train0_g = self.opt.apply_gradients(zip(grads0_g, vars_all), global_step=global_step)\n",
    "    self.train_d = train0_d\n",
    "    self.train_g = train0_g\n",
    "  \n",
    "  def Step(self, feed_dict=None, dsteps=1, gsteps=1):\n",
    "    for i in range(dsteps):\n",
    "      sess.run(self.train_d, feed_dict)\n",
    "    for i in range(gsteps):\n",
    "      sess.run(self.train_g, feed_dict)\n",
    "  \n",
    "class TrainGanSingleTwoSteps1(TrainImplicitGanTwoSteps):\n",
    "  def __init__(self, model, gan_cls=GanPlain, opt_cls=tf.train.GradientDescentOptimizer):\n",
    "    self.m = model\n",
    "    self.gan_cls = gan_cls\n",
    "    self.opt = opt_cls(learn_rate)\n",
    "    self._CreateTrainOps()\n",
    "  \n",
    "  def _CreateTrainOps(self):\n",
    "    gan = self.gan_cls()\n",
    "\n",
    "    loss_fad = tf.reduce_mean(gan.Fa(self.m.pd))\n",
    "    loss_fbs = tf.reduce_mean(gan.Fb(self.m.ps))\n",
    "    self.loss = (loss_fad + loss_fbs) * (-0.5)\n",
    "\n",
    "    train_d = self.opt.minimize(\n",
    "        - loss_fad - loss_fbs, \n",
    "        var_list=self.m.vars_dis, \n",
    "    )\n",
    "    train_g1 = self.opt.minimize(\n",
    "        loss_fbs, \n",
    "        var_list=self.m.vars_gen, \n",
    "        global_step=global_step\n",
    "    )\n",
    "    self.train_d = train_d\n",
    "    self.train_g = train_g1\n",
    "    \n",
    "class TrainGanSingleTwoSteps2(TrainGanSingleTwoSteps1):\n",
    "  def _CreateTrainOps(self):\n",
    "    gan = self.gan_cls()\n",
    "\n",
    "    loss_fad = tf.reduce_mean(gan.Fa(self.m.pd))\n",
    "    loss_fbs = tf.reduce_mean(gan.Fb(self.m.ps))\n",
    "    loss_fas = tf.reduce_mean(gan.Fa(self.m.ps))\n",
    "    self.loss = (loss_fad + loss_fbs) * (-0.5)\n",
    "\n",
    "    train_d = self.opt.minimize(\n",
    "        - loss_fad - loss_fbs, \n",
    "        var_list=self.m.vars_dis, \n",
    "    )\n",
    "    train_g2 = self.opt.minimize(\n",
    "        -loss_fas, \n",
    "        var_list=self.m.vars_gen,\n",
    "        global_step=global_step\n",
    "    )\n",
    "    self.train_d = train_d\n",
    "    self.train_g = train_g2    \n",
    "    \n",
    "class TrainGanSingleTwoSteps3(TrainGanSingleTwoSteps1):\n",
    "  def _CreateTrainOps(self):\n",
    "    gan = self.gan_cls()\n",
    "\n",
    "    loss_fad = tf.reduce_mean(gan.Fa(self.m.pd))\n",
    "    loss_fbs = tf.reduce_mean(gan.Fb(self.m.ps))\n",
    "    loss_fcs = tf.reduce_mean(gan.FbMFa(self.m.ps))\n",
    "    self.loss = (loss_fad + loss_fbs) * (-0.5)\n",
    "\n",
    "    train_d = self.opt.minimize(\n",
    "        - loss_fad - loss_fbs, \n",
    "        var_list=self.m.vars_dis, \n",
    "    )\n",
    "    train_g3 = self.opt.minimize(\n",
    "        loss_fcs, \n",
    "        var_list=self.m.vars_gen,\n",
    "        global_step=global_step\n",
    "    )\n",
    "    self.train_d = train_d\n",
    "    self.train_g = train_g3\n",
    "    \n",
    "class TrainGanSingleTwoSteps3SameBatch(TrainGanSingleTwoSteps3):\n",
    "  def Step(self, feed_dict=None, dsteps=1, gsteps=1):\n",
    "      \n",
    "    inputs = self.m.inputs\n",
    "    inputs_v = sess.run(inputs, feed_dict)\n",
    "    \n",
    "    if feed_dict is None:\n",
    "      feed_dict = {}\n",
    "      \n",
    "    same_feeds = dict(zip(inputs, inputs_v))\n",
    "    same_feeds.update(feed_dict)\n",
    "    \n",
    "    for i in range(dsteps):\n",
    "      sess.run(self.train_d, same_feeds)\n",
    "    for i in range(gsteps):\n",
    "      sess.run(self.train_g, same_feeds)  \n",
    "    \n",
    "class TrainGanSingleTwoSteps3SepOpt(TrainGanSingleTwoSteps1):\n",
    "  def _CreateTrainOps(self):\n",
    "    gan = self.gan_cls()\n",
    "\n",
    "    loss_fad = tf.reduce_mean(gan.Fa(self.m.pd))\n",
    "    loss_fbs = tf.reduce_mean(gan.Fb(self.m.ps))\n",
    "    loss_fcs = tf.reduce_mean(gan.FbMFa(self.m.ps))\n",
    "    self.loss = (loss_fad + loss_fbs) * (-0.5)\n",
    "\n",
    "    opt_d = tf.train.GradientDescentOptimizer(learn_rate)\n",
    "    opt_g = tf.train.AdamOptimizer(learn_rate)\n",
    "    train_d = opt_d.minimize(\n",
    "        - loss_fad - loss_fbs, \n",
    "        var_list=self.m.vars_dis, \n",
    "    )\n",
    "    train_g3 = opt_g.minimize(\n",
    "        loss_fcs, \n",
    "        var_list=self.m.vars_gen,\n",
    "        global_step=global_step\n",
    "    )\n",
    "    self.train_d = train_d\n",
    "    self.train_g = train_g3    "
   ]
  },
  {
   "cell_type": "markdown",
   "metadata": {
    "colab_type": "text",
    "id": "ORFOE_WnljW2"
   },
   "source": [
    "# Current Experiments"
   ]
  },
  {
   "cell_type": "code",
   "execution_count": 14,
   "metadata": {
    "colab": {
     "autoexec": {
      "startup": false,
      "wait_interval": 0
     }
    },
    "colab_type": "code",
    "collapsed": true,
    "id": "NrfzkkHHLkFr"
   },
   "outputs": [],
   "source": [
    "# m = ModelNormalToUniform()\n",
    "# m = ModelNormalToNormal()\n",
    "# m = ModelNormalToNormalAylien()\n",
    "m = ModelNormalToUniformAylien()\n",
    "# m = ModelNormalToTwoUnifs()\n",
    "# m = ModelNormalToUniform2D()\n",
    "# m = ModelNormalToLine()"
   ]
  },
  {
   "cell_type": "code",
   "execution_count": 15,
   "metadata": {
    "colab": {
     "autoexec": {
      "startup": false,
      "wait_interval": 0
     }
    },
    "colab_type": "code",
    "collapsed": true,
    "id": "c3AccWUETtGp"
   },
   "outputs": [],
   "source": [
    "gan_cls = GanPlain"
   ]
  },
  {
   "cell_type": "code",
   "execution_count": 16,
   "metadata": {
    "colab": {
     "autoexec": {
      "startup": false,
      "wait_interval": 0
     }
    },
    "colab_type": "code",
    "collapsed": true,
    "id": "OD2ymxRiipCS"
   },
   "outputs": [],
   "source": [
    "opt_cls = tf.train.AdamOptimizer\n",
    "# opt_cls = tf.train.GradientDescentOptimizer"
   ]
  },
  {
   "cell_type": "code",
   "execution_count": 17,
   "metadata": {
    "colab": {
     "autoexec": {
      "startup": false,
      "wait_interval": 0
     }
    },
    "colab_type": "code",
    "collapsed": true,
    "id": "RpxHA9P-TOTE"
   },
   "outputs": [],
   "source": [
    "# t = TrainGanSingleTwoSteps3(m, gan_cls=gan_cls, opt_cls=opt_cls)\n",
    "# t = TrainGanSingleTwoSteps3SameBatch(m, gan_cls=gan_cls, opt_cls=opt_cls)\n",
    "t = TrainGanSingleTwoSteps2(m, gan_cls=gan_cls, opt_cls=opt_cls)\n",
    "# t = TrainGanSingleTwoSteps1(m, gan_cls=gan_cls, opt_cls=opt_cls)\n",
    "# t = TrainImplicitGanSingleStep(m, opt_cls=opt_cls)\n",
    "# t = TrainImplicitGanTwoSteps(m, opt_cls=opt_cls)\n",
    "# t = TrainGanSingleTwoSteps3SepOpt(m, gan_cls=gan_cls, opt_cls=opt_cls)"
   ]
  },
  {
   "cell_type": "code",
   "execution_count": 18,
   "metadata": {
    "colab": {
     "autoexec": {
      "startup": false,
      "wait_interval": 0
     },
     "height": 34,
     "output_extras": [
      {
       "item_id": 1
      }
     ]
    },
    "colab_type": "code",
    "collapsed": false,
    "executionInfo": {
     "elapsed": 57,
     "status": "ok",
     "timestamp": 1507694168020,
     "user": {
      "displayName": "Louis Shao",
      "photoUrl": "//lh6.googleusercontent.com/-Xk4yoLtB1G4/AAAAAAAAAAI/AAAAAAAAADI/dMzQjZ3A9T8/s50-c-k-no/photo.jpg",
      "userId": "109463290151803858571"
     },
     "user_tz": 420
    },
    "id": "OTh-9QhXFRdN",
    "outputId": "baa54517-a673-47ee-8a7e-94a7afb8561b"
   },
   "outputs": [
    {
     "data": {
      "text/plain": [
       "[None, None]"
      ]
     },
     "execution_count": 18,
     "metadata": {},
     "output_type": "execute_result"
    }
   ],
   "source": [
    "sess.run([\n",
    "    tf.global_variables_initializer(),\n",
    "    tf.local_variables_initializer()])"
   ]
  },
  {
   "cell_type": "code",
   "execution_count": 19,
   "metadata": {
    "colab": {
     "autoexec": {
      "startup": false,
      "wait_interval": 0
     },
     "height": 720,
     "output_extras": [
      {
       "item_id": 1
      },
      {
       "item_id": 2
      },
      {
       "item_id": 3
      }
     ]
    },
    "colab_type": "code",
    "collapsed": false,
    "executionInfo": {
     "elapsed": 21429,
     "status": "ok",
     "timestamp": 1507694189528,
     "user": {
      "displayName": "Louis Shao",
      "photoUrl": "//lh6.googleusercontent.com/-Xk4yoLtB1G4/AAAAAAAAAAI/AAAAAAAAADI/dMzQjZ3A9T8/s50-c-k-no/photo.jpg",
      "userId": "109463290151803858571"
     },
     "user_tz": 420
    },
    "id": "f3FY4jU7NQpQ",
    "outputId": "ae61f171-0fce-4111-c6f5-b8377dfb3928"
   },
   "outputs": [
    {
     "name": "stdout",
     "output_type": "stream",
     "text": [
      "[12000, 0.69216311]\n"
     ]
    },
    {
     "data": {
      "image/png": "[encoded data removed]",
      "text/plain": [
       "<matplotlib.figure.Figure at 0x2443f54dc18>"
      ]
     },
     "metadata": {},
     "output_type": "display_data"
    },
    {
     "data": {
      "image/png": "[encoded data removed]",
      "text/plain": [
       "<matplotlib.figure.Figure at 0x2443f5634a8>"
      ]
     },
     "metadata": {},
     "output_type": "display_data"
    }
   ],
   "source": [
    "for i in range(10000):\n",
    "  t.Step({learn_rate: 0.001})\n",
    "\n",
    "pp.figure()\n",
    "m.Plot()\n",
    "\n",
    "pp.figure()\n",
    "m.Verify()\n",
    "print(sess.run([global_step, t.loss]))"
   ]
  },
  {
   "cell_type": "code",
   "execution_count": null,
   "metadata": {
    "collapsed": true
   },
   "outputs": [],
   "source": []
  },
  {
   "cell_type": "code",
   "execution_count": 20,
   "metadata": {
    "collapsed": false
   },
   "outputs": [
    {
     "data": {
      "image/png": "[encoded data removed]",
      "text/plain": [
       "<matplotlib.figure.Figure at 0x2443dfc69b0>"
      ]
     },
     "metadata": {},
     "output_type": "display_data"
    }
   ],
   "source": [
    "m.Verify()"
   ]
  },
  {
   "cell_type": "markdown",
   "metadata": {
    "colab_type": "text",
    "id": "pXOG9P8Elllc"
   },
   "source": [
    "# Working Example: Normal to Uniform"
   ]
  },
  {
   "cell_type": "code",
   "execution_count": 19,
   "metadata": {
    "colab": {
     "autoexec": {
      "startup": false,
      "wait_interval": 0
     },
     "height": 34,
     "output_extras": [
      {
       "item_id": 1
      }
     ]
    },
    "colab_type": "code",
    "collapsed": false,
    "executionInfo": {
     "elapsed": 405,
     "status": "ok",
     "timestamp": 1507694360606,
     "user": {
      "displayName": "Louis Shao",
      "photoUrl": "//lh6.googleusercontent.com/-Xk4yoLtB1G4/AAAAAAAAAAI/AAAAAAAAADI/dMzQjZ3A9T8/s50-c-k-no/photo.jpg",
      "userId": "109463290151803858571"
     },
     "user_tz": 420
    },
    "id": "KbYBTvW5gVM-",
    "outputId": "180def7e-3125-4cb0-aa89-6ca9f8776860"
   },
   "outputs": [
    {
     "data": {
      "text/plain": [
       "[None, None]"
      ]
     },
     "execution_count": 19,
     "metadata": {
      "tags": []
     },
     "output_type": "execute_result"
    }
   ],
   "source": [
    "m = ModelNormalToUniformAylien()\n",
    "gan_cls = GanPlain\n",
    "opt_cls = tf.train.AdamOptimizer\n",
    "t = TrainGanSingleTwoSteps2(m, gan_cls=gan_cls, opt_cls=opt_cls)\n",
    "\n",
    "sess.run([\n",
    "    tf.global_variables_initializer(),\n",
    "    tf.local_variables_initializer()])\n",
    "\n",
    "# for i in range(100):\n",
    "#   sess.run()"
   ]
  },
  {
   "cell_type": "code",
   "execution_count": 20,
   "metadata": {
    "colab": {
     "autoexec": {
      "startup": false,
      "wait_interval": 0
     },
     "height": 720,
     "output_extras": [
      {
       "item_id": 1
      },
      {
       "item_id": 2
      },
      {
       "item_id": 3
      }
     ]
    },
    "colab_type": "code",
    "collapsed": false,
    "executionInfo": {
     "elapsed": 2522,
     "status": "ok",
     "timestamp": 1507694363195,
     "user": {
      "displayName": "Louis Shao",
      "photoUrl": "//lh6.googleusercontent.com/-Xk4yoLtB1G4/AAAAAAAAAAI/AAAAAAAAADI/dMzQjZ3A9T8/s50-c-k-no/photo.jpg",
      "userId": "109463290151803858571"
     },
     "user_tz": 420
    },
    "id": "yChpGkCek8AU",
    "outputId": "9bca017e-c59a-4045-d520-29f742429376"
   },
   "outputs": [
    {
     "name": "stdout",
     "output_type": "stream",
     "text": [
      "[2000, 0.68766755]\n"
     ]
    },
    {
     "data": {
      "image/png": "[encoded data removed]",
      "text/plain": [
       "<matplotlib.figure.Figure at 0x555cea24c510>"
      ]
     },
     "metadata": {
      "tags": []
     },
     "output_type": "display_data"
    },
    {
     "data": {
      "image/png": "[encoded data removed]",
      "text/plain": [
       "<matplotlib.figure.Figure at 0x555ceaef8910>"
      ]
     },
     "metadata": {
      "tags": []
     },
     "output_type": "display_data"
    }
   ],
   "source": [
    "for i in range(12000):\n",
    "  t.Step({learn_rate: 0.001})\n",
    "\n",
    "pp.figure()\n",
    "m.Plot()\n",
    "\n",
    "pp.figure()\n",
    "m.Verify()\n",
    "print sess.run([global_step, t.loss])"
   ]
  },
  {
   "cell_type": "code",
   "execution_count": 0,
   "metadata": {
    "colab": {
     "autoexec": {
      "startup": false,
      "wait_interval": 0
     }
    },
    "colab_type": "code",
    "collapsed": true,
    "id": "XtL5cb9RhLN0"
   },
   "outputs": [],
   "source": []
  }
 ],
 "metadata": {
  "colab": {
   "default_view": {},
   "name": "GAN Experiments",
   "provenance": [
    {
     "file_id": "0B3EJejfEVl8VZVZ5VjZMdHVzS0E",
     "timestamp": 1507098755760
    },
    {
     "file_id": "0B3EJejfEVl8VQkFycnk3aF9VREE",
     "timestamp": 1506725034873
    }
   ],
   "version": "0.3.2",
   "views": {}
  },
  "kernelspec": {
   "display_name": "Python 3",
   "language": "python",
   "name": "python3"
  },
  "language_info": {
   "codemirror_mode": {
    "name": "ipython",
    "version": 3
   },
   "file_extension": ".py",
   "mimetype": "text/x-python",
   "name": "python",
   "nbconvert_exporter": "python",
   "pygments_lexer": "ipython3",
   "version": "3.5.2"
  }
 },
 "nbformat": 4,
 "nbformat_minor": 0
}
